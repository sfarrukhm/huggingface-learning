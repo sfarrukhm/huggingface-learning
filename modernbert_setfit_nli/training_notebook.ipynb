{
  "nbformat": 4,
  "nbformat_minor": 0,
  "metadata": {
    "colab": {
      "provenance": [],
      "gpuType": "T4",
      "mount_file_id": "1E85K-axv8EZmJsjo7nvFe2ypASB1v8a6",
      "authorship_tag": "ABX9TyNFr5mErwJn67utZSD47P9b",
      "include_colab_link": true
    },
    "kernelspec": {
      "name": "python3",
      "display_name": "Python 3"
    },
    "language_info": {
      "name": "python"
    },
    "widgets": {
      "application/vnd.jupyter.widget-state+json": {
        "cceddb46e3c44fca8b5f4a531b3bc3eb": {
          "model_module": "@jupyter-widgets/controls",
          "model_name": "HBoxModel",
          "model_module_version": "1.5.0",
          "state": {
            "_dom_classes": [],
            "_model_module": "@jupyter-widgets/controls",
            "_model_module_version": "1.5.0",
            "_model_name": "HBoxModel",
            "_view_count": null,
            "_view_module": "@jupyter-widgets/controls",
            "_view_module_version": "1.5.0",
            "_view_name": "HBoxView",
            "box_style": "",
            "children": [
              "IPY_MODEL_459e4971e4a6424c84850c1c63f30c90",
              "IPY_MODEL_82eddec8cd5e4fdd99f4cd1516204b1e",
              "IPY_MODEL_a64eecbfbfa64103ae8ca3736a78652f"
            ],
            "layout": "IPY_MODEL_540111ade95543268cf531f90900dbfe"
          }
        },
        "459e4971e4a6424c84850c1c63f30c90": {
          "model_module": "@jupyter-widgets/controls",
          "model_name": "HTMLModel",
          "model_module_version": "1.5.0",
          "state": {
            "_dom_classes": [],
            "_model_module": "@jupyter-widgets/controls",
            "_model_module_version": "1.5.0",
            "_model_name": "HTMLModel",
            "_view_count": null,
            "_view_module": "@jupyter-widgets/controls",
            "_view_module_version": "1.5.0",
            "_view_name": "HTMLView",
            "description": "",
            "description_tooltip": null,
            "layout": "IPY_MODEL_633b0c59548d4d708e0a8382c1e70af3",
            "placeholder": "​",
            "style": "IPY_MODEL_ed0194c1edb74caf8219079c58f7e47c",
            "value": "Map: 100%"
          }
        },
        "82eddec8cd5e4fdd99f4cd1516204b1e": {
          "model_module": "@jupyter-widgets/controls",
          "model_name": "FloatProgressModel",
          "model_module_version": "1.5.0",
          "state": {
            "_dom_classes": [],
            "_model_module": "@jupyter-widgets/controls",
            "_model_module_version": "1.5.0",
            "_model_name": "FloatProgressModel",
            "_view_count": null,
            "_view_module": "@jupyter-widgets/controls",
            "_view_module_version": "1.5.0",
            "_view_name": "ProgressView",
            "bar_style": "success",
            "description": "",
            "description_tooltip": null,
            "layout": "IPY_MODEL_8308b2c2a296478d84df96d5e73addb7",
            "max": 30000,
            "min": 0,
            "orientation": "horizontal",
            "style": "IPY_MODEL_3a8865a834844a6ea950f8ac605d764e",
            "value": 30000
          }
        },
        "a64eecbfbfa64103ae8ca3736a78652f": {
          "model_module": "@jupyter-widgets/controls",
          "model_name": "HTMLModel",
          "model_module_version": "1.5.0",
          "state": {
            "_dom_classes": [],
            "_model_module": "@jupyter-widgets/controls",
            "_model_module_version": "1.5.0",
            "_model_name": "HTMLModel",
            "_view_count": null,
            "_view_module": "@jupyter-widgets/controls",
            "_view_module_version": "1.5.0",
            "_view_name": "HTMLView",
            "description": "",
            "description_tooltip": null,
            "layout": "IPY_MODEL_fac59a5d5cd041c8abee790c5b3e76fa",
            "placeholder": "​",
            "style": "IPY_MODEL_569e2f9d0db744a0a160cff586b7c529",
            "value": " 30000/30000 [00:17&lt;00:00, 1983.35 examples/s]"
          }
        },
        "540111ade95543268cf531f90900dbfe": {
          "model_module": "@jupyter-widgets/base",
          "model_name": "LayoutModel",
          "model_module_version": "1.2.0",
          "state": {
            "_model_module": "@jupyter-widgets/base",
            "_model_module_version": "1.2.0",
            "_model_name": "LayoutModel",
            "_view_count": null,
            "_view_module": "@jupyter-widgets/base",
            "_view_module_version": "1.2.0",
            "_view_name": "LayoutView",
            "align_content": null,
            "align_items": null,
            "align_self": null,
            "border": null,
            "bottom": null,
            "display": null,
            "flex": null,
            "flex_flow": null,
            "grid_area": null,
            "grid_auto_columns": null,
            "grid_auto_flow": null,
            "grid_auto_rows": null,
            "grid_column": null,
            "grid_gap": null,
            "grid_row": null,
            "grid_template_areas": null,
            "grid_template_columns": null,
            "grid_template_rows": null,
            "height": null,
            "justify_content": null,
            "justify_items": null,
            "left": null,
            "margin": null,
            "max_height": null,
            "max_width": null,
            "min_height": null,
            "min_width": null,
            "object_fit": null,
            "object_position": null,
            "order": null,
            "overflow": null,
            "overflow_x": null,
            "overflow_y": null,
            "padding": null,
            "right": null,
            "top": null,
            "visibility": null,
            "width": null
          }
        },
        "633b0c59548d4d708e0a8382c1e70af3": {
          "model_module": "@jupyter-widgets/base",
          "model_name": "LayoutModel",
          "model_module_version": "1.2.0",
          "state": {
            "_model_module": "@jupyter-widgets/base",
            "_model_module_version": "1.2.0",
            "_model_name": "LayoutModel",
            "_view_count": null,
            "_view_module": "@jupyter-widgets/base",
            "_view_module_version": "1.2.0",
            "_view_name": "LayoutView",
            "align_content": null,
            "align_items": null,
            "align_self": null,
            "border": null,
            "bottom": null,
            "display": null,
            "flex": null,
            "flex_flow": null,
            "grid_area": null,
            "grid_auto_columns": null,
            "grid_auto_flow": null,
            "grid_auto_rows": null,
            "grid_column": null,
            "grid_gap": null,
            "grid_row": null,
            "grid_template_areas": null,
            "grid_template_columns": null,
            "grid_template_rows": null,
            "height": null,
            "justify_content": null,
            "justify_items": null,
            "left": null,
            "margin": null,
            "max_height": null,
            "max_width": null,
            "min_height": null,
            "min_width": null,
            "object_fit": null,
            "object_position": null,
            "order": null,
            "overflow": null,
            "overflow_x": null,
            "overflow_y": null,
            "padding": null,
            "right": null,
            "top": null,
            "visibility": null,
            "width": null
          }
        },
        "ed0194c1edb74caf8219079c58f7e47c": {
          "model_module": "@jupyter-widgets/controls",
          "model_name": "DescriptionStyleModel",
          "model_module_version": "1.5.0",
          "state": {
            "_model_module": "@jupyter-widgets/controls",
            "_model_module_version": "1.5.0",
            "_model_name": "DescriptionStyleModel",
            "_view_count": null,
            "_view_module": "@jupyter-widgets/base",
            "_view_module_version": "1.2.0",
            "_view_name": "StyleView",
            "description_width": ""
          }
        },
        "8308b2c2a296478d84df96d5e73addb7": {
          "model_module": "@jupyter-widgets/base",
          "model_name": "LayoutModel",
          "model_module_version": "1.2.0",
          "state": {
            "_model_module": "@jupyter-widgets/base",
            "_model_module_version": "1.2.0",
            "_model_name": "LayoutModel",
            "_view_count": null,
            "_view_module": "@jupyter-widgets/base",
            "_view_module_version": "1.2.0",
            "_view_name": "LayoutView",
            "align_content": null,
            "align_items": null,
            "align_self": null,
            "border": null,
            "bottom": null,
            "display": null,
            "flex": null,
            "flex_flow": null,
            "grid_area": null,
            "grid_auto_columns": null,
            "grid_auto_flow": null,
            "grid_auto_rows": null,
            "grid_column": null,
            "grid_gap": null,
            "grid_row": null,
            "grid_template_areas": null,
            "grid_template_columns": null,
            "grid_template_rows": null,
            "height": null,
            "justify_content": null,
            "justify_items": null,
            "left": null,
            "margin": null,
            "max_height": null,
            "max_width": null,
            "min_height": null,
            "min_width": null,
            "object_fit": null,
            "object_position": null,
            "order": null,
            "overflow": null,
            "overflow_x": null,
            "overflow_y": null,
            "padding": null,
            "right": null,
            "top": null,
            "visibility": null,
            "width": null
          }
        },
        "3a8865a834844a6ea950f8ac605d764e": {
          "model_module": "@jupyter-widgets/controls",
          "model_name": "ProgressStyleModel",
          "model_module_version": "1.5.0",
          "state": {
            "_model_module": "@jupyter-widgets/controls",
            "_model_module_version": "1.5.0",
            "_model_name": "ProgressStyleModel",
            "_view_count": null,
            "_view_module": "@jupyter-widgets/base",
            "_view_module_version": "1.2.0",
            "_view_name": "StyleView",
            "bar_color": null,
            "description_width": ""
          }
        },
        "fac59a5d5cd041c8abee790c5b3e76fa": {
          "model_module": "@jupyter-widgets/base",
          "model_name": "LayoutModel",
          "model_module_version": "1.2.0",
          "state": {
            "_model_module": "@jupyter-widgets/base",
            "_model_module_version": "1.2.0",
            "_model_name": "LayoutModel",
            "_view_count": null,
            "_view_module": "@jupyter-widgets/base",
            "_view_module_version": "1.2.0",
            "_view_name": "LayoutView",
            "align_content": null,
            "align_items": null,
            "align_self": null,
            "border": null,
            "bottom": null,
            "display": null,
            "flex": null,
            "flex_flow": null,
            "grid_area": null,
            "grid_auto_columns": null,
            "grid_auto_flow": null,
            "grid_auto_rows": null,
            "grid_column": null,
            "grid_gap": null,
            "grid_row": null,
            "grid_template_areas": null,
            "grid_template_columns": null,
            "grid_template_rows": null,
            "height": null,
            "justify_content": null,
            "justify_items": null,
            "left": null,
            "margin": null,
            "max_height": null,
            "max_width": null,
            "min_height": null,
            "min_width": null,
            "object_fit": null,
            "object_position": null,
            "order": null,
            "overflow": null,
            "overflow_x": null,
            "overflow_y": null,
            "padding": null,
            "right": null,
            "top": null,
            "visibility": null,
            "width": null
          }
        },
        "569e2f9d0db744a0a160cff586b7c529": {
          "model_module": "@jupyter-widgets/controls",
          "model_name": "DescriptionStyleModel",
          "model_module_version": "1.5.0",
          "state": {
            "_model_module": "@jupyter-widgets/controls",
            "_model_module_version": "1.5.0",
            "_model_name": "DescriptionStyleModel",
            "_view_count": null,
            "_view_module": "@jupyter-widgets/base",
            "_view_module_version": "1.2.0",
            "_view_name": "StyleView",
            "description_width": ""
          }
        }
      }
    },
    "accelerator": "GPU"
  },
  "cells": [
    {
      "cell_type": "markdown",
      "metadata": {
        "id": "view-in-github",
        "colab_type": "text"
      },
      "source": [
        "<a href=\"https://colab.research.google.com/github/sfarrukhm/model_finetune/blob/main/modernbert_setfit_nli/training_notebook.ipynb\" target=\"_parent\"><img src=\"https://colab.research.google.com/assets/colab-badge.svg\" alt=\"Open In Colab\"/></a>"
      ]
    },
    {
      "cell_type": "code",
      "execution_count": 1,
      "metadata": {
        "id": "byNhc1djgmJJ"
      },
      "outputs": [],
      "source": [
        "!pip install -qU datasets transformers evaluate"
      ]
    },
    {
      "cell_type": "code",
      "source": [
        "from datasets import load_dataset\n",
        "dataset=load_dataset('SetFit/mnli')\n",
        "dataset=dataset.rename_columns({'text1':'premise','text2':'hypothesis','label':'labels'})\n",
        "\n",
        "from collections import Counter\n",
        "\n",
        "# Class distribution\n",
        "train_labels = [sample['labels'] for sample in train_data]\n",
        "print(f\"Class distribution in train set: {Counter(train_labels)}\")"
      ],
      "metadata": {
        "colab": {
          "base_uri": "https://localhost:8080/"
        },
        "id": "zgl5jp91X4iD",
        "outputId": "5b1da6ff-d6de-4175-a5c1-967971840f72"
      },
      "execution_count": 2,
      "outputs": [
        {
          "output_type": "stream",
          "name": "stderr",
          "text": [
            "Repo card metadata block was not found. Setting CardData to empty.\n",
            "WARNING:huggingface_hub.repocard:Repo card metadata block was not found. Setting CardData to empty.\n"
          ]
        },
        {
          "output_type": "stream",
          "name": "stdout",
          "text": [
            "Class distribution in train set: Counter({2: 130903, 1: 130900, 0: 130899})\n"
          ]
        }
      ]
    },
    {
      "cell_type": "code",
      "source": [
        "# Desired subset size and class-wise calculation\n",
        "desired_subset_size = 30000\n",
        "num_classes = 3\n",
        "samples_per_class = desired_subset_size // num_classes\n",
        "\n",
        "# Perform stratified sampling\n",
        "def stratified_sampling(dataset, samples_per_class):\n",
        "    # Group dataset by label\n",
        "    class_labels = list(set(dataset['labels']))\n",
        "    stratified_subset = []\n",
        "    for label in class_labels:\n",
        "        # Filter samples for the current class\n",
        "        class_samples = dataset.filter(lambda x: x['labels'] == label)\n",
        "        # Shuffle and select the required number of samples\n",
        "        stratified_subset.extend(class_samples.shuffle(seed=42).select(range(samples_per_class)))\n",
        "    return stratified_subset\n",
        "\n",
        "# Apply stratified sampling\n",
        "train_subset = stratified_sampling(train_data, samples_per_class)\n",
        "\n",
        "# Convert the subset to Dataset\n",
        "from datasets import Dataset\n",
        "train_subset = Dataset.from_dict({key: [item[key] for item in train_subset] for key in train_subset[0].keys()})\n",
        "\n",
        "# Verify the distribution\n",
        "# from collections import Counter\n",
        "# train_labels = train_subset['labels']\n",
        "# print(f\"Subset class distribution: {Counter(train_labels)}\")\n",
        "# print(f\"Total samples in subset: {len(train_subset)}\")\n"
      ],
      "metadata": {
        "id": "SHlOnp3FYGsc"
      },
      "execution_count": 3,
      "outputs": []
    },
    {
      "cell_type": "code",
      "source": [
        "# Load the base model tokenizer\n",
        "from transformers import AutoTokenizer, DataCollatorWithPadding\n",
        "\n",
        "checkpoint=\"answerdotai/ModernBERT-base\"\n",
        "\n",
        "tokenizer = AutoTokenizer.from_pretrained(checkpoint)\n",
        "tokenizer.model_max_length=512\n",
        "data_collator=DataCollatorWithPadding(tokenizer=tokenizer)\n",
        "# def tokenizer_fn(example)\n",
        "def tokenize_function(example):\n",
        "  tokenized_example=tokenizer(example['premise'],example['hypothesis'],truncation=True,padding='max_length',return_tensors='pt')\n",
        "  return tokenized_example\n",
        "\n",
        "train_subset_tokenized=train_subset.map(tokenize_function,batched=True)\n",
        "val_data_tokenized=val_data.map(tokenize_function,batched=True)\n",
        "test_data_tokenized=test_data.map(tokenize_function,batched=True)"
      ],
      "metadata": {
        "colab": {
          "base_uri": "https://localhost:8080/",
          "height": 49,
          "referenced_widgets": [
            "cceddb46e3c44fca8b5f4a531b3bc3eb",
            "459e4971e4a6424c84850c1c63f30c90",
            "82eddec8cd5e4fdd99f4cd1516204b1e",
            "a64eecbfbfa64103ae8ca3736a78652f",
            "540111ade95543268cf531f90900dbfe",
            "633b0c59548d4d708e0a8382c1e70af3",
            "ed0194c1edb74caf8219079c58f7e47c",
            "8308b2c2a296478d84df96d5e73addb7",
            "3a8865a834844a6ea950f8ac605d764e",
            "fac59a5d5cd041c8abee790c5b3e76fa",
            "569e2f9d0db744a0a160cff586b7c529"
          ]
        },
        "id": "ZaZ2JV59YGpu",
        "outputId": "bb2f73ff-75f9-48dd-8bc2-f07e07b392e6"
      },
      "execution_count": 5,
      "outputs": [
        {
          "output_type": "display_data",
          "data": {
            "text/plain": [
              "Map:   0%|          | 0/30000 [00:00<?, ? examples/s]"
            ],
            "application/vnd.jupyter.widget-view+json": {
              "version_major": 2,
              "version_minor": 0,
              "model_id": "cceddb46e3c44fca8b5f4a531b3bc3eb"
            }
          },
          "metadata": {}
        }
      ]
    },
    {
      "cell_type": "markdown",
      "source": [
        "####  Set the trainer"
      ],
      "metadata": {
        "id": "2kEr015EqwxW"
      }
    },
    {
      "cell_type": "code",
      "source": [
        "# load base model\n",
        "from transformers import AutoModelForSequenceClassification\n",
        "\n",
        "model = AutoModelForSequenceClassification.from_pretrained(checkpoint, num_labels=3)"
      ],
      "metadata": {
        "colab": {
          "base_uri": "https://localhost:8080/"
        },
        "id": "VUN8AgbrYGj-",
        "outputId": "b0d23f79-d3da-419e-80a3-b40701eb0d13"
      },
      "execution_count": 9,
      "outputs": [
        {
          "output_type": "stream",
          "name": "stderr",
          "text": [
            "Some weights of ModernBertForSequenceClassification were not initialized from the model checkpoint at answerdotai/ModernBERT-base and are newly initialized: ['classifier.bias', 'classifier.weight']\n",
            "You should probably TRAIN this model on a down-stream task to be able to use it for predictions and inference.\n"
          ]
        }
      ]
    },
    {
      "cell_type": "code",
      "source": [
        "# define training arguments\n",
        "from transformers import TrainingArguments, Trainer\n",
        "output_dir=\"/content/drive/MyDrive/huggingface/model_trained/modernbert-nli_setfit\"\n",
        "hub_model_id=\"modernbert-setfit-nli\"\n",
        "\n",
        "\n",
        "training_args=TrainingArguments(\n",
        "    output_dir=output_dir,\n",
        "    learning_rate=1e-5,\n",
        "    num_train_epochs=3,\n",
        "    save_strategy='epoch',\n",
        "    evaluation_strategy='epoch'\n",
        "    hub_model_id=hub_model_id,\n",
        ")\n",
        "\n",
        "# set the training loop\n",
        "trainer=Trainer(\n",
        "    model=model,\n",
        "    args=training_args,\n",
        "    train_dataset=train_subset_tokenized,\n",
        "    eval_dataset=val_data_tokenized,\n",
        "    tokenizer=tokenizer,\n",
        "    data_collator=data_collator\n",
        ")\n",
        "\n",
        "trainer.train()"
      ],
      "metadata": {
        "id": "dZ6AI3FUX4gm"
      },
      "execution_count": null,
      "outputs": []
    },
    {
      "cell_type": "code",
      "source": [
        "# Save the model and push to hub\n",
        "trainer.save_model()\n",
        "trainer.push_to_hub(\"Fine-tuned ModernBERT for NLI\")"
      ],
      "metadata": {
        "id": "1CuQKebhoYGR"
      },
      "execution_count": null,
      "outputs": []
    }
  ]
}